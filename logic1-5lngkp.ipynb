{
 "cells": [
  {
   "cell_type": "raw",
   "metadata": {},
   "source": [
    "# LOGIC 5\n",
    "\n",
    "## NAMA :  Rifqi Hidayat"
   ]
  },
  {
   "cell_type": "markdown",
   "metadata": {},
   "source": [
    "<h1 style=\"color:red\">**LOGIC 1**</h1>"
   ]
  },
  {
   "cell_type": "markdown",
   "metadata": {},
   "source": [
    "### LOGIC 1 SOAL 1"
   ]
  },
  {
   "cell_type": "code",
   "execution_count": 1,
   "metadata": {},
   "outputs": [
    {
     "name": "stdout",
     "output_type": "stream",
     "text": [
      "* - - - - - - - - \n",
      "- * - - - - - - - \n",
      "- - * - - - - - - \n",
      "- - - * - - - - - \n",
      "- - - - * - - - - \n",
      "- - - - - * - - - \n",
      "- - - - - - * - - \n",
      "- - - - - - - * - \n",
      "- - - - - - - - * \n"
     ]
    }
   ],
   "source": [
    "def printr(x):\n",
    "    print(x, end=\" \")\n",
    "r=9\n",
    "q=r+1\n",
    "for y in range(1,q):\n",
    "    for x in range(1,q):\n",
    "        if x==y:\n",
    "            printr(\"*\")\n",
    "        else:\n",
    "            printr(\"-\")\n",
    "    print()"
   ]
  },
  {
   "cell_type": "code",
   "execution_count": 2,
   "metadata": {},
   "outputs": [
    {
     "name": "stdout",
     "output_type": "stream",
     "text": [
      "1 - - - - - - - - \n",
      "- 3 - - - - - - - \n",
      "- - 5 - - - - - - \n",
      "- - - 7 - - - - - \n",
      "- - - - 9 - - - - \n",
      "- - - - - 11 - - - \n",
      "- - - - - - 13 - - \n",
      "- - - - - - - 15 - \n",
      "- - - - - - - - 17 \n"
     ]
    }
   ],
   "source": [
    "for y in range(1,q):\n",
    "    for x in range(1,q):\n",
    "        printr(x*2-1 if x==y else '-')\n",
    "    print()"
   ]
  },
  {
   "cell_type": "markdown",
   "metadata": {},
   "source": [
    "### LOGIC 1 SOAL 2"
   ]
  },
  {
   "cell_type": "code",
   "execution_count": 3,
   "metadata": {},
   "outputs": [
    {
     "name": "stdout",
     "output_type": "stream",
     "text": [
      "- - - - - - - - * \n",
      "- - - - - - - * - \n",
      "- - - - - - * - - \n",
      "- - - - - * - - - \n",
      "- - - - * - - - - \n",
      "- - - * - - - - - \n",
      "- - * - - - - - - \n",
      "- * - - - - - - - \n",
      "* - - - - - - - - \n"
     ]
    }
   ],
   "source": [
    "for y in range(1,q):\n",
    "    for x in range(1,q):\n",
    "        if y==q-x:\n",
    "            printr(\"*\")\n",
    "        else:\n",
    "            printr(\"-\")\n",
    "    print()"
   ]
  },
  {
   "cell_type": "markdown",
   "metadata": {},
   "source": [
    "### SOAL 3"
   ]
  },
  {
   "cell_type": "code",
   "execution_count": 4,
   "metadata": {},
   "outputs": [
    {
     "name": "stdout",
     "output_type": "stream",
     "text": [
      "* - - - - - - - * \n",
      "- * - - - - - * - \n",
      "- - * - - - * - - \n",
      "- - - * - * - - - \n",
      "- - - - * - - - - \n",
      "- - - * - * - - - \n",
      "- - * - - - * - - \n",
      "- * - - - - - * - \n",
      "* - - - - - - - * \n"
     ]
    }
   ],
   "source": [
    "for y in range(1,q):\n",
    "    for x in range(1,q):\n",
    "        if x==y or y==q-x:\n",
    "            printr(\"*\")\n",
    "        else:\n",
    "            printr(\"-\")\n",
    "    print()\n",
    "            "
   ]
  },
  {
   "cell_type": "markdown",
   "metadata": {},
   "source": [
    "### SOAL 4"
   ]
  },
  {
   "cell_type": "code",
   "execution_count": 5,
   "metadata": {},
   "outputs": [
    {
     "name": "stdout",
     "output_type": "stream",
     "text": [
      "* - - - * - - - * \n",
      "- * - - * - - * - \n",
      "- - * - * - * - - \n",
      "- - - * * * - - - \n",
      "* * * * * * * * * \n",
      "- - - * * * - - - \n",
      "- - * - * - * - - \n",
      "- * - - * - - * - \n",
      "* - - - * - - - * \n"
     ]
    }
   ],
   "source": [
    "for y in range(1,q):\n",
    "    for x in range(1,q):\n",
    "        if x==y or y==q-x or x==q//2 or y==q//2:\n",
    "            printr(\"*\")\n",
    "        else:\n",
    "            printr(\"-\")\n",
    "    print()"
   ]
  },
  {
   "cell_type": "markdown",
   "metadata": {},
   "source": [
    "### SOAL 5"
   ]
  },
  {
   "cell_type": "code",
   "execution_count": 6,
   "metadata": {},
   "outputs": [
    {
     "name": "stdout",
     "output_type": "stream",
     "text": [
      "* - - - - - - - - \n",
      "* * - - - - - - - \n",
      "* * * - - - - - - \n",
      "* * * * - - - - - \n",
      "* * * * * - - - - \n",
      "* * * * * * - - - \n",
      "* * * * * * * - - \n",
      "* * * * * * * * - \n",
      "* * * * * * * * * \n"
     ]
    }
   ],
   "source": [
    "for y in range(1,q):\n",
    "    for x in range(1,q):\n",
    "        if x<=y:\n",
    "            printr(\"*\")\n",
    "        else:\n",
    "            printr(\"-\")\n",
    "    print()"
   ]
  },
  {
   "cell_type": "markdown",
   "metadata": {},
   "source": [
    "### SOAL 6"
   ]
  },
  {
   "cell_type": "code",
   "execution_count": 7,
   "metadata": {},
   "outputs": [
    {
     "name": "stdout",
     "output_type": "stream",
     "text": [
      "- - - - - - - - * \n",
      "- - - - - - - * * \n",
      "- - - - - - * * * \n",
      "- - - - - * * * * \n",
      "- - - - * * * * * \n",
      "- - - * * * * * * \n",
      "- - * * * * * * * \n",
      "- * * * * * * * * \n",
      "* * * * * * * * * \n"
     ]
    }
   ],
   "source": [
    "for y in range(1,q):\n",
    "    for x in range(1,q):\n",
    "        if y>=q-x:\n",
    "            printr(\"*\")\n",
    "        else:\n",
    "            printr(\"-\")\n",
    "    print()"
   ]
  },
  {
   "cell_type": "markdown",
   "metadata": {},
   "source": [
    "### SOAL 7"
   ]
  },
  {
   "cell_type": "code",
   "execution_count": 8,
   "metadata": {},
   "outputs": [
    {
     "name": "stdout",
     "output_type": "stream",
     "text": [
      "* * * * * * * * * \n",
      "- * * * * * * * - \n",
      "- - * * * * * - - \n",
      "- - - * * * - - - \n",
      "- - - - * - - - - \n",
      "- - - * * * - - - \n",
      "- - * * * * * - - \n",
      "- * * * * * * * - \n",
      "* * * * * * * * * \n"
     ]
    }
   ],
   "source": [
    "for y in range(1,q):\n",
    "    for x in range(1,q):\n",
    "        if x>=y and y<=q-x or x<=y and y>=q-x:\n",
    "            printr(\"*\")\n",
    "        else:\n",
    "            printr(\"-\")\n",
    "    print()"
   ]
  },
  {
   "cell_type": "markdown",
   "metadata": {},
   "source": [
    "### SOAL 8"
   ]
  },
  {
   "cell_type": "code",
   "execution_count": 9,
   "metadata": {},
   "outputs": [
    {
     "name": "stdout",
     "output_type": "stream",
     "text": [
      "* - - - - - - - * \n",
      "* * - - - - - * * \n",
      "* * * - - - * * * \n",
      "* * * * - * * * * \n",
      "* * * * * * * * * \n",
      "* * * * - * * * * \n",
      "* * * - - - * * * \n",
      "* * - - - - - * * \n",
      "* - - - - - - - * \n"
     ]
    }
   ],
   "source": [
    "for y in range(1,q):\n",
    "    for x in range(1,q):\n",
    "        if x<=y and y<=q-x or x>=y and y>=q-x:\n",
    "            printr(\"*\")\n",
    "        else:\n",
    "            printr(\"-\")\n",
    "    print()"
   ]
  },
  {
   "cell_type": "markdown",
   "metadata": {},
   "source": [
    "<h1 style=\"color:red\">**LOGIC 2**</h1>"
   ]
  },
  {
   "cell_type": "markdown",
   "metadata": {},
   "source": [
    "### SOAL 1"
   ]
  },
  {
   "cell_type": "code",
   "execution_count": 10,
   "metadata": {},
   "outputs": [
    {
     "name": "stdout",
     "output_type": "stream",
     "text": [
      "1 - - - - - - - - \n",
      "- 3 - - - - - - - \n",
      "- - 5 - - - - - - \n",
      "- - - 7 - - - - - \n",
      "- - - - 9 - - - - \n",
      "- - - - - 11 - - - \n",
      "- - - - - - 13 - - \n",
      "- - - - - - - 15 - \n",
      "- - - - - - - - 17 \n"
     ]
    }
   ],
   "source": [
    "for y in range(1,q):\n",
    "    for x in range(1,q):\n",
    "        if x==y:\n",
    "            printr(x*2-1)\n",
    "        else:\n",
    "            printr(\"-\")\n",
    "    print()"
   ]
  },
  {
   "cell_type": "markdown",
   "metadata": {},
   "source": [
    "### SOAL 2"
   ]
  },
  {
   "cell_type": "code",
   "execution_count": 11,
   "metadata": {},
   "outputs": [
    {
     "name": "stdout",
     "output_type": "stream",
     "text": [
      "- - - - - - - - 16 \n",
      "- - - - - - - 14 - \n",
      "- - - - - - 12 - - \n",
      "- - - - - 10 - - - \n",
      "- - - - 8 - - - - \n",
      "- - - 6 - - - - - \n",
      "- - 4 - - - - - - \n",
      "- 2 - - - - - - - \n",
      "0 - - - - - - - - \n"
     ]
    }
   ],
   "source": [
    "for y in range(1,q):\n",
    "    for x in range(1,q):\n",
    "        if y==q-x:\n",
    "            printr(x*2-2)\n",
    "        else:\n",
    "            printr(\"-\")\n",
    "    print()"
   ]
  },
  {
   "cell_type": "markdown",
   "metadata": {},
   "source": [
    "### SOAL 3"
   ]
  },
  {
   "cell_type": "code",
   "execution_count": 12,
   "metadata": {},
   "outputs": [
    {
     "name": "stdout",
     "output_type": "stream",
     "text": [
      "1 - - - - - - - 16 \n",
      "- 3 - - - - - 14 - \n",
      "- - 5 - - - 12 - - \n",
      "- - - 7 - 10 - - - \n",
      "- - - - 9 - - - - \n",
      "- - - 6 - 11 - - - \n",
      "- - 4 - - - 13 - - \n",
      "- 2 - - - - - 15 - \n",
      "0 - - - - - - - 17 \n"
     ]
    }
   ],
   "source": [
    "for y in range(1,q):\n",
    "    for x in range(1,q):\n",
    "        if x==y:\n",
    "            printr(x*2-1)\n",
    "        elif y==q-x:\n",
    "            printr(x*2-2)\n",
    "        else:\n",
    "            printr(\"-\")\n",
    "    print()"
   ]
  },
  {
   "cell_type": "markdown",
   "metadata": {},
   "source": [
    "### SOAL 4"
   ]
  },
  {
   "cell_type": "code",
   "execution_count": 13,
   "metadata": {},
   "outputs": [
    {
     "name": "stdout",
     "output_type": "stream",
     "text": [
      "1 - - - 1 - - - 16 \n",
      "- 3 - - 3 - - 14 - \n",
      "- - 5 - 5 - 12 - - \n",
      "- - - 7 7 10 - - - \n",
      "0 2 4 6 9 10 12 14 16 \n",
      "- - - 6 11 11 - - - \n",
      "- - 4 - 13 - 13 - - \n",
      "- 2 - - 15 - - 15 - \n",
      "0 - - - 17 - - - 17 \n"
     ]
    }
   ],
   "source": [
    "for y in range(1,q):\n",
    "    for x in range(1,q):\n",
    "        if x==y or x==q//2:\n",
    "            printr(y*2-1)\n",
    "        elif y==q-x or y==q//2:\n",
    "            printr(x*2-2)\n",
    "        else:\n",
    "            printr(\"-\")\n",
    "    print()"
   ]
  },
  {
   "cell_type": "markdown",
   "metadata": {},
   "source": [
    "### SOAL 5"
   ]
  },
  {
   "cell_type": "code",
   "execution_count": 14,
   "metadata": {},
   "outputs": [
    {
     "name": "stdout",
     "output_type": "stream",
     "text": [
      "1 - - - - - - - - \n",
      "1 3 - - - - - - - \n",
      "1 3 5 - - - - - - \n",
      "1 3 5 7 - - - - - \n",
      "1 3 5 7 9 - - - - \n",
      "1 3 5 7 9 11 - - - \n",
      "1 3 5 7 9 11 13 - - \n",
      "1 3 5 7 9 11 13 15 - \n",
      "1 3 5 7 9 11 13 15 17 \n"
     ]
    }
   ],
   "source": [
    "for y in range(1,q):\n",
    "    for x in range(1,q):\n",
    "        if x<=y:\n",
    "            printr(x*2-1)\n",
    "        else:\n",
    "            printr(\"-\")\n",
    "    print()"
   ]
  },
  {
   "cell_type": "markdown",
   "metadata": {},
   "source": [
    "### SOAL 6"
   ]
  },
  {
   "cell_type": "code",
   "execution_count": 15,
   "metadata": {},
   "outputs": [
    {
     "name": "stdout",
     "output_type": "stream",
     "text": [
      "- - - - - - - - 16 \n",
      "- - - - - - - 14 14 \n",
      "- - - - - - 12 12 12 \n",
      "- - - - - 10 10 10 10 \n",
      "- - - - 8 8 8 8 8 \n",
      "- - - 6 6 6 6 6 6 \n",
      "- - 4 4 4 4 4 4 4 \n",
      "- 2 2 2 2 2 2 2 2 \n",
      "0 0 0 0 0 0 0 0 0 \n"
     ]
    }
   ],
   "source": [
    "for y in range(1,q):\n",
    "    for x in range(1,q):\n",
    "        if y>=q-x:\n",
    "            printr((r-y)*2)\n",
    "        else:\n",
    "            printr(\"-\")\n",
    "    print()"
   ]
  },
  {
   "cell_type": "markdown",
   "metadata": {},
   "source": [
    "### SOAL 7"
   ]
  },
  {
   "cell_type": "code",
   "execution_count": 16,
   "metadata": {},
   "outputs": [
    {
     "name": "stdout",
     "output_type": "stream",
     "text": [
      "1 A A A A A A A 16 \n",
      "- 3 A A A A A 14 - \n",
      "- - 5 A A A 12 - - \n",
      "- - - 7 A 10 - - - \n",
      "- - - - 9 - - - - \n",
      "- - - 6 B 11 - - - \n",
      "- - 4 B B B 13 - - \n",
      "- 2 B B B B B 15 - \n",
      "0 B B B B B B B 17 \n"
     ]
    }
   ],
   "source": [
    "for y in range(1,q):\n",
    "    for x in range(1,q):\n",
    "        if x==y:\n",
    "            printr(x*2-1)\n",
    "        elif y==q-x:\n",
    "            printr(x*2-2)\n",
    "        elif x>y and y<q-x:\n",
    "            printr(\"A\")\n",
    "        elif x<y and y>q-x:\n",
    "            printr(\"B\")\n",
    "        else:\n",
    "            printr(\"-\")\n",
    "    print()"
   ]
  },
  {
   "cell_type": "markdown",
   "metadata": {},
   "source": [
    "### SOAL 8"
   ]
  },
  {
   "cell_type": "code",
   "execution_count": 17,
   "metadata": {},
   "outputs": [
    {
     "name": "stdout",
     "output_type": "stream",
     "text": [
      "1 - - - - - - - 16 \n",
      "A 3 - - - - - 14 B \n",
      "A A 5 - - - 12 B B \n",
      "A A A 7 - 10 B B B \n",
      "A A A A 9 B B B B \n",
      "A A A 6 - 11 B B B \n",
      "A A 4 - - - 13 B B \n",
      "A 2 - - - - - 15 B \n",
      "0 - - - - - - - 17 \n"
     ]
    }
   ],
   "source": [
    "for y in range(1,q):\n",
    "    for x in range(1,q):\n",
    "        if x==y:\n",
    "            printr(x*2-1)\n",
    "        elif y==q-x:\n",
    "            printr(x*2-2)\n",
    "        elif x<y and y<q-x:\n",
    "            printr(\"A\")\n",
    "        elif x>y and y>q-x:\n",
    "            printr(\"B\")\n",
    "        else:\n",
    "            printr(\"-\")\n",
    "    print()"
   ]
  },
  {
   "cell_type": "markdown",
   "metadata": {},
   "source": [
    "<h1 style=\"color:red\">**LOGIC 3**</h1>"
   ]
  },
  {
   "cell_type": "markdown",
   "metadata": {},
   "source": [
    "### SOAL 1"
   ]
  },
  {
   "cell_type": "code",
   "execution_count": 18,
   "metadata": {},
   "outputs": [
    {
     "name": "stdout",
     "output_type": "stream",
     "text": [
      "1 1 2 3 5 8 13 21 34 "
     ]
    }
   ],
   "source": [
    "def fib(a):\n",
    "    if a<=2:\n",
    "        return 1\n",
    "    else:\n",
    "        return fib(a-1)+fib(a-2)\n",
    "for x in range(1,q):\n",
    "    printr(fib(x))"
   ]
  },
  {
   "cell_type": "markdown",
   "metadata": {},
   "source": [
    "### SOAL 2"
   ]
  },
  {
   "cell_type": "code",
   "execution_count": 19,
   "metadata": {},
   "outputs": [
    {
     "name": "stdout",
     "output_type": "stream",
     "text": [
      "1 1 1 3 5 9 17 31 57 "
     ]
    }
   ],
   "source": [
    "def fib3(a):\n",
    "    if a<=3:\n",
    "        return 1\n",
    "    else:\n",
    "        return fib3(a-1)+fib3(a-2)+fib3(a-3)\n",
    "for x in range(1,q):\n",
    "    printr(fib3(x))"
   ]
  },
  {
   "cell_type": "markdown",
   "metadata": {},
   "source": [
    "### SOAL 3"
   ]
  },
  {
   "cell_type": "code",
   "execution_count": 20,
   "metadata": {},
   "outputs": [
    {
     "name": "stdout",
     "output_type": "stream",
     "text": [
      "12\n",
      "24\n"
     ]
    }
   ],
   "source": [
    "def fpb(a,b):\n",
    "    if b==0:\n",
    "        return a\n",
    "    else:\n",
    "        return fpb(b,a%b)\n",
    "def kpk(a,b):\n",
    "    return a*b//fpb(a,b)\n",
    "print(fpb(12,24))\n",
    "print(kpk(12,24))"
   ]
  },
  {
   "cell_type": "markdown",
   "metadata": {},
   "source": [
    "### SOAL 4"
   ]
  },
  {
   "cell_type": "code",
   "execution_count": 21,
   "metadata": {},
   "outputs": [
    {
     "name": "stdout",
     "output_type": "stream",
     "text": [
      "1 A A A A A A A 16 \n",
      "D 3 A A A A A 14 B \n",
      "D D 5 A A A 12 B B \n",
      "D D D 7 A 10 B B B \n",
      "D D D D 9 B B B B \n",
      "D D D 6 C 11 B B B \n",
      "D D 4 C C C 13 B B \n",
      "D 2 C C C C C 15 B \n",
      "0 C C C C C C C 17 \n"
     ]
    }
   ],
   "source": [
    "for y in range(1,q):\n",
    "    for x in range(1,q):\n",
    "        if x==y:\n",
    "            printr(x*2-1)\n",
    "        elif y==q-x:\n",
    "            printr(x*2-2)\n",
    "        elif x>y and y<q-x:\n",
    "            printr(\"A\")\n",
    "        elif x>y and y>q-x:\n",
    "            printr(\"B\")\n",
    "        elif x<y and y>q-x:\n",
    "            printr(\"C\")\n",
    "        else:\n",
    "            printr(\"D\")\n",
    "    print()"
   ]
  },
  {
   "cell_type": "markdown",
   "metadata": {},
   "source": [
    "### SOAL 5"
   ]
  },
  {
   "cell_type": "code",
   "execution_count": 22,
   "metadata": {},
   "outputs": [
    {
     "name": "stdout",
     "output_type": "stream",
     "text": [
      "1 1 1 1 1 1 1 1 1 \n",
      "1 1 1 1 1 1 1 1 1 \n",
      "1 1 2 2 2 2 2 1 1 \n",
      "1 1 2 3 3 3 2 1 1 \n",
      "1 1 2 3 5 3 2 1 1 \n",
      "1 1 2 3 3 3 2 1 1 \n",
      "1 1 2 2 2 2 2 1 1 \n",
      "1 1 1 1 1 1 1 1 1 \n",
      "1 1 1 1 1 1 1 1 1 \n"
     ]
    }
   ],
   "source": [
    "r=4\n",
    "q=r+1\n",
    "for y in range(-r,q):\n",
    "    for x in range(-r,q):\n",
    "        o=abs(x) if abs(x)>abs(y) else abs(y)\n",
    "        n=q-o\n",
    "        printr(fib(n))\n",
    "    print()"
   ]
  },
  {
   "cell_type": "markdown",
   "metadata": {},
   "source": [
    "### SOAL 6"
   ]
  },
  {
   "cell_type": "code",
   "execution_count": 23,
   "metadata": {},
   "outputs": [
    {
     "name": "stdout",
     "output_type": "stream",
     "text": [
      "1 1 1 1 1 1 1 1 1 \n",
      "1               1 \n",
      "1   3 3 3 3 3   1 \n",
      "1   3       3   1 \n",
      "1   3   5   3   1 \n",
      "1   3       3   1 \n",
      "1   3 3 3 3 3   1 \n",
      "1               1 \n",
      "1 1 1 1 1 1 1 1 1 \n"
     ]
    }
   ],
   "source": [
    "for y in range(-r,q):\n",
    "    for x in range(-r,q):\n",
    "        o=abs(x) if abs(x)>abs(y) else abs(y)\n",
    "        n=q-o\n",
    "        printr(n if n%2>0 else ' ')\n",
    "    print()"
   ]
  },
  {
   "cell_type": "markdown",
   "metadata": {},
   "source": [
    "### SOAL 7"
   ]
  },
  {
   "cell_type": "code",
   "execution_count": 24,
   "metadata": {},
   "outputs": [
    {
     "name": "stdout",
     "output_type": "stream",
     "text": [
      "1 1 1 1 1 1 1 1 1 \n",
      "1               1 \n",
      "1   1 1 1 1 1   1 \n",
      "1   1       1   1 \n",
      "1   1   2   1   1 \n",
      "1   1       1   1 \n",
      "1   1 1 1 1 1   1 \n",
      "1               1 \n",
      "1 1 1 1 1 1 1 1 1 \n"
     ]
    }
   ],
   "source": [
    "for y in range(-r,q):\n",
    "    for x in range(-r,q):\n",
    "        o=abs(x) if abs(x)>abs(y) else abs(y)\n",
    "        n=q-o\n",
    "        printr(fib(n//2+1) if n%2>0 else ' ')\n",
    "    print()"
   ]
  },
  {
   "cell_type": "markdown",
   "metadata": {},
   "source": [
    "### SOAL 8"
   ]
  },
  {
   "cell_type": "code",
   "execution_count": 25,
   "metadata": {},
   "outputs": [
    {
     "name": "stdout",
     "output_type": "stream",
     "text": [
      "1 1 1 1 1 1 1 1 1 \n",
      "1 A A A A A A A 1 \n",
      "1 A 1 1 1 1 1 A 1 \n",
      "1 A 1 B B B 1 A 1 \n",
      "1 A 1 B 2 B 1 A 1 \n",
      "1 A 1 B B B 1 A 1 \n",
      "1 A 1 1 1 1 1 A 1 \n",
      "1 A A A A A A A 1 \n",
      "1 1 1 1 1 1 1 1 1 \n"
     ]
    }
   ],
   "source": [
    "for y in range(-r,q):\n",
    "    for x in range(-r,q):\n",
    "        o=abs(x) if abs(x)>abs(y) else abs(y)\n",
    "        n=q-o\n",
    "        al=\"AB\"                                      # ato\n",
    "        printr(fib(n//2+1) if n%2>0 else al[n//2-1])#if n%2>0:\n",
    "    print()                                         #   printr(fib(n//2+1))\n",
    "                                                    #else:\n",
    "                                                    #   al=\"AB\"\n",
    "                                                    #  printr(al[n//2-1])\n",
    "    "
   ]
  },
  {
   "cell_type": "markdown",
   "metadata": {},
   "source": [
    "<h1 style=\"color:red\">**LOGIC 4**</h1>"
   ]
  },
  {
   "cell_type": "markdown",
   "metadata": {},
   "source": [
    "### SOAL 1"
   ]
  },
  {
   "cell_type": "code",
   "execution_count": 26,
   "metadata": {},
   "outputs": [
    {
     "name": "stdout",
     "output_type": "stream",
     "text": [
      "- - - - 1 \n",
      "- - - 1 2 3 \n",
      "- - 1 2 3 4 5 \n",
      "- 1 2 3 4 5 6 7 \n",
      "1 2 3 4 5 6 7 8 9 \n"
     ]
    }
   ],
   "source": [
    "r=5\n",
    "q=r+1\n",
    "for y in range(1,q):\n",
    "    for s in range(r-y):      # ato (1,q-y)\n",
    "        printr(\"-\")\n",
    "    for x in range(1,y*2):\n",
    "        printr(x)\n",
    "    print()"
   ]
  },
  {
   "cell_type": "code",
   "execution_count": 27,
   "metadata": {},
   "outputs": [
    {
     "name": "stdout",
     "output_type": "stream",
     "text": [
      "* * * * 1 * * * * \n",
      "* * * 1 2 3 * * * \n",
      "* * 1 2 3 4 5 * * \n",
      "* 1 2 3 4 5 6 7 * \n",
      "1 2 3 4 5 6 7 8 9 \n"
     ]
    }
   ],
   "source": [
    "rx=9\n",
    "ry=5\n",
    "for y in range(ry):\n",
    "    for x in range(rx):\n",
    "        b=rx//2\n",
    "        if x>=b-y and x<=b+y:\n",
    "            n=x-(b-y-1)\n",
    "            printr(n)\n",
    "        else:\n",
    "            printr(\"*\")\n",
    "    print()"
   ]
  },
  {
   "cell_type": "markdown",
   "metadata": {},
   "source": [
    "### SOAL 2"
   ]
  },
  {
   "cell_type": "code",
   "execution_count": 28,
   "metadata": {},
   "outputs": [
    {
     "name": "stdout",
     "output_type": "stream",
     "text": [
      "1 2 3 4 5 6 7 8 9 \n",
      "- 1 2 3 4 5 6 7 \n",
      "- - 1 2 3 4 5 \n",
      "- - - 1 2 3 \n",
      "- - - - 1 \n"
     ]
    }
   ],
   "source": [
    "r=5\n",
    "q=r+1\n",
    "for y in range(1,q):\n",
    "    for s in range(1,y):\n",
    "        printr(\"-\")\n",
    "    e=(q-y)\n",
    "    for x in range(1,e*2):\n",
    "        printr(x)\n",
    "    print()"
   ]
  },
  {
   "cell_type": "markdown",
   "metadata": {},
   "source": [
    "### SOAL 3"
   ]
  },
  {
   "cell_type": "code",
   "execution_count": 29,
   "metadata": {},
   "outputs": [
    {
     "name": "stdout",
     "output_type": "stream",
     "text": [
      "- - - - 1 \n",
      "- - - 1 2 3 \n",
      "- - 1 2 3 4 5 \n",
      "- 1 2 3 4 5 6 7 \n",
      "1 2 3 4 5 6 7 8 9 \n",
      "- 1 2 3 4 5 6 7 \n",
      "- - 1 2 3 4 5 \n",
      "- - - 1 2 3 \n",
      "- - - - 1 \n"
     ]
    }
   ],
   "source": [
    "r=4\n",
    "q=r+1\n",
    "for y in range(-r,q):\n",
    "    for s in range(abs(y)):\n",
    "        printr(\"-\")\n",
    "    e=q-abs(y)\n",
    "    for x in range(1,e*2):\n",
    "        printr(x)\n",
    "    print()"
   ]
  },
  {
   "cell_type": "markdown",
   "metadata": {},
   "source": [
    "### SOAL 4"
   ]
  },
  {
   "cell_type": "code",
   "execution_count": 30,
   "metadata": {},
   "outputs": [
    {
     "name": "stdout",
     "output_type": "stream",
     "text": [
      "- - - - 1 \n",
      "- - - 1 3 1 \n",
      "- - 1 3 5 3 1 \n",
      "- 1 3 5 7 5 3 1 \n",
      "1 3 5 7 9 7 5 3 1 \n"
     ]
    }
   ],
   "source": [
    "r=5\n",
    "q=r+1\n",
    "for y in range(1,q):\n",
    "    for s in range(r-y):      # ato (1,q-y)\n",
    "        printr(\"-\")\n",
    "    for x in range(-y+1,y):\n",
    "        n=y-abs(x)\n",
    "        printr(n*2-1)\n",
    "    print()"
   ]
  },
  {
   "cell_type": "markdown",
   "metadata": {},
   "source": [
    "### SOAL 5"
   ]
  },
  {
   "cell_type": "code",
   "execution_count": 31,
   "metadata": {},
   "outputs": [
    {
     "name": "stdout",
     "output_type": "stream",
     "text": [
      "1 3 5 7 9 7 5 3 1 \n",
      "- 1 3 5 7 5 3 1 \n",
      "- - 1 3 5 3 1 \n",
      "- - - 1 3 1 \n",
      "- - - - 1 \n"
     ]
    }
   ],
   "source": [
    "for y in range(1,q):\n",
    "    for s in range(1,y):\n",
    "        printr(\"-\")\n",
    "    e=q-y\n",
    "    for x in range(-e+1,e):\n",
    "        n=e-abs(x)\n",
    "        printr(n*2-1)\n",
    "    print()\n",
    "        "
   ]
  },
  {
   "cell_type": "markdown",
   "metadata": {},
   "source": [
    "### SOAL 6"
   ]
  },
  {
   "cell_type": "code",
   "execution_count": 32,
   "metadata": {},
   "outputs": [
    {
     "name": "stdout",
     "output_type": "stream",
     "text": [
      "- - - - 1 \n",
      "- - - 1 3 1 \n",
      "- - 1 3 5 3 1 \n",
      "- 1 3 5 7 5 3 1 \n",
      "1 3 5 7 9 7 5 3 1 \n",
      "- 1 3 5 7 5 3 1 \n",
      "- - 1 3 5 3 1 \n",
      "- - - 1 3 1 \n",
      "- - - - 1 \n"
     ]
    }
   ],
   "source": [
    "r=4\n",
    "q=r+1\n",
    "for y in range(-r,q):\n",
    "    for s in range(abs(y)):\n",
    "        printr('-')\n",
    "    e=q-abs(y)\n",
    "    for x in range(-e+1,e):\n",
    "        n=e-abs(x)\n",
    "        printr(n*2-1)\n",
    "    print()"
   ]
  },
  {
   "cell_type": "markdown",
   "metadata": {},
   "source": [
    "### SOAL 7"
   ]
  },
  {
   "cell_type": "code",
   "execution_count": 33,
   "metadata": {},
   "outputs": [
    {
     "name": "stdout",
     "output_type": "stream",
     "text": [
      ", , , , 1 . . . , , , , 1 . . . , , , , 1 . . . \n",
      ", , , 1 3 1 . . , , , 1 3 1 . . , , , 1 3 1 . . \n",
      ", , 1 3 5 3 1 . , , 1 3 5 3 1 . , , 1 3 5 3 1 . \n",
      ", 1 3 5 7 5 3 1 , 1 3 5 7 5 3 1 , 1 3 5 7 5 3 1 \n",
      "1 3 5 7 9 7 5 3 1 3 5 7 9 7 5 3 1 3 5 7 9 7 5 3 1 \n",
      ", 1 3 5 7 5 3 1 , 1 3 5 7 5 3 1 , 1 3 5 7 5 3 1 \n",
      ", , 1 3 5 3 1 . , , 1 3 5 3 1 . , , 1 3 5 3 1 . \n",
      ", , , 1 3 1 . . , , , 1 3 1 . . , , , 1 3 1 . . \n",
      ", , , , 1 . . . , , , , 1 . . . , , , , 1 . . . \n"
     ]
    }
   ],
   "source": [
    "for y in range(-r,q):\n",
    "    for i in range(3):\n",
    "        for s in range(abs(y)):\n",
    "            printr(\",\")\n",
    "        e=q-abs(y)\n",
    "        for x in range(-e+1,e):\n",
    "            if x==-4 and i>0:continue\n",
    "            n=e-abs(x)\n",
    "            printr(n*2-1)\n",
    "        for s in range(abs(y)-1):\n",
    "            printr(\".\")\n",
    "    print()"
   ]
  },
  {
   "cell_type": "markdown",
   "metadata": {},
   "source": [
    "### SOAL 8"
   ]
  },
  {
   "cell_type": "code",
   "execution_count": 34,
   "metadata": {},
   "outputs": [
    {
     "name": "stdout",
     "output_type": "stream",
     "text": [
      ", , , , 5 . . . , , , , 5 . . . \n",
      ", , , 3 - 3 . . , , , 3 - 3 . . \n",
      ", , 2 - 2 - 2 . , , 2 - 2 - 2 . \n",
      ", 1 - 1 - 1 - 1 , 1 - 1 - 1 - 1 \n",
      "1 - 1 - 2 - 1 - 1 - 1 - 2 - 1 - 1 \n",
      ", 1 - 1 - 1 - 1 , 1 - 1 - 1 - 1 \n",
      ", , 2 - 2 - 2 . , , 2 - 2 - 2 . \n",
      ", , , 3 - 3 . . , , , 3 - 3 . . \n",
      ", , , , 5 . . . , , , , 5 . . . \n"
     ]
    }
   ],
   "source": [
    "for y in range(-r,q):\n",
    "    for i in range(2):\n",
    "        for s in range(abs(y)):\n",
    "            printr(\",\")\n",
    "        e=q-abs(y)\n",
    "        for x in range(-e+1,e):\n",
    "            if x==-r and i>0:continue\n",
    "            n=e-abs(x)\n",
    "            if n%2==1:\n",
    "                a=n//2+1 if y==0 else abs(y)+1\n",
    "                printr(fib(a))\n",
    "            else:\n",
    "                printr(\"-\")\n",
    "        for s in range(abs(y)-1):\n",
    "            printr(\".\")\n",
    "    print()"
   ]
  },
  {
   "cell_type": "markdown",
   "metadata": {},
   "source": [
    "### SOAL 9"
   ]
  },
  {
   "cell_type": "code",
   "execution_count": 35,
   "metadata": {},
   "outputs": [
    {
     "name": "stdout",
     "output_type": "stream",
     "text": [
      ", , , , , * . . . . . , , , , * . . . . . , , , , * . . . . . \n",
      ", , , , * * * . . . . , , , * * * . . . . , , , * * * . . . . \n",
      ", , , * * * * * . . . , , * * * * * . . . , , * * * * * . . . \n",
      ", , * * * * * * * . . , * * * * * * * . . , * * * * * * * . . \n",
      ", * * * * * * * * * . * * * * * * * * * . * * * * * * * * * . \n",
      "* * * * * * * * * * * * * * * * * * * * * * * * * * * * * * * \n",
      ", * * * * * * * * * . * * * * * * * * * . * * * * * * * * * . \n",
      ", , * * * * * * * . . , * * * * * * * . . , * * * * * * * . . \n",
      ", , , * * * * * . . . , , * * * * * . . . , , * * * * * . . . \n",
      ", , , , * * * . . . . , , , * * * . . . . , , , * * * . . . . \n",
      ", , , , , * . . . . . , , , , * . . . . . , , , , * . . . . . \n"
     ]
    }
   ],
   "source": [
    "def crystal(si,l):\n",
    "    r=si//2\n",
    "    q=r+1\n",
    "    for y in range(-r,q):\n",
    "        for i in range(l):\n",
    "            for s in range(abs(y)):\n",
    "                if s<1 and i>0:continue\n",
    "                printr(\",\")\n",
    "            e=q-abs(y)\n",
    "            for x in range(-e+1,e):\n",
    "                if x==-r and i>0:continue\n",
    "                n=e-abs(x)\n",
    "                printr(\"*\")\n",
    "            for s in range(abs(y)):\n",
    "                printr(\".\")\n",
    "        print()\n",
    "crystal(10,3)"
   ]
  },
  {
   "cell_type": "markdown",
   "metadata": {},
   "source": [
    "### SOAL 10"
   ]
  },
  {
   "cell_type": "code",
   "execution_count": 36,
   "metadata": {},
   "outputs": [
    {
     "name": "stdout",
     "output_type": "stream",
     "text": [
      ", * , + , * \n",
      "* * * + + * * \n",
      ", * , + , * \n"
     ]
    }
   ],
   "source": [
    "def crystal2(si,l):\n",
    "    r=si//2\n",
    "    q=r+1\n",
    "    for y in range(-r,q):\n",
    "        for i in range(l):\n",
    "            for s in range(abs(y)):\n",
    "                printr(\",\")\n",
    "            e=q-abs(y)\n",
    "            for x in range(-e+1,e):\n",
    "                if x==-r and i>0:continue\n",
    "                n=e-abs(x)\n",
    "                a=\"*\" if i%2<1 else \"+\"\n",
    "                printr(a)\n",
    "            for s in range(abs(y)-1):\n",
    "                printr(\".\")\n",
    "        print()\n",
    "crystal2(2,3)"
   ]
  },
  {
   "cell_type": "markdown",
   "metadata": {},
   "source": [
    "<h1 style=\"color:red\">**LOGIC 5**</h1>"
   ]
  },
  {
   "cell_type": "markdown",
   "metadata": {},
   "source": [
    "### SOAL 1"
   ]
  },
  {
   "cell_type": "code",
   "execution_count": 37,
   "metadata": {},
   "outputs": [
    {
     "name": "stdout",
     "output_type": "stream",
     "text": [
      "* \n",
      "  * * \n",
      "  * * \n",
      "      * * * \n",
      "      * * * \n",
      "      * * * \n",
      "            * * * * \n",
      "            * * * * \n",
      "            * * * * \n",
      "            * * * * \n"
     ]
    }
   ],
   "source": [
    "def sp(a):\n",
    "    return (a-1)*a//2\n",
    "for j in range(q):\n",
    "    for i in range(1,j+1):\n",
    "        for s in range(sp(j)):  # pengaruhnya di no2\n",
    "            printr(' ')\n",
    "        for x in range(j):\n",
    "            printr('*')\n",
    "        print()"
   ]
  },
  {
   "cell_type": "code",
   "execution_count": 38,
   "metadata": {},
   "outputs": [
    {
     "name": "stdout",
     "output_type": "stream",
     "text": [
      "1 * \n",
      "1 - * * \n",
      "2 - * * \n",
      "1 - - - * * * \n",
      "2 - - - * * * \n",
      "3 - - - * * * \n",
      "1 - - - - - - * * * * \n",
      "2 - - - - - - * * * * \n",
      "3 - - - - - - * * * * \n",
      "4 - - - - - - * * * * \n"
     ]
    }
   ],
   "source": [
    "def sp(n):\n",
    "    return n*(n+1)//2\n",
    "r=4\n",
    "q=r+1\n",
    "for j in range(1,q):      # atau dr 0 tak beda\n",
    "    for i in range(1,j+1):   # harus dr 1\n",
    "        printr(i)\n",
    "        for s in range(sp(j-1)):\n",
    "            printr('-')\n",
    "        for x in range(j):\n",
    "            printr('*')\n",
    "        print()\n"
   ]
  },
  {
   "cell_type": "code",
   "execution_count": 39,
   "metadata": {},
   "outputs": [
    {
     "name": "stdout",
     "output_type": "stream",
     "text": [
      "* \n",
      "1 * * \n",
      "1 * * \n",
      "1 2 3 * * * \n",
      "1 2 3 * * * \n",
      "1 2 3 * * * \n",
      "1 2 3 4 5 6 * * * * \n",
      "1 2 3 4 5 6 * * * * \n",
      "1 2 3 4 5 6 * * * * \n",
      "1 2 3 4 5 6 * * * * \n"
     ]
    }
   ],
   "source": [
    "def t(a):\n",
    "    return a*(a-1)//2\n",
    "def cr(a,b):\n",
    "    return range(a,b+1)\n",
    "\n",
    "for y in cr(1,4):\n",
    "    for x in cr(1,y):\n",
    "        for s in cr(1,t(y)):\n",
    "            printr(s)\n",
    "        for b in cr(1,y):\n",
    "            printr(\"*\")\n",
    "        print()"
   ]
  },
  {
   "cell_type": "markdown",
   "metadata": {},
   "source": [
    "### SOAL 2"
   ]
  },
  {
   "cell_type": "code",
   "execution_count": 40,
   "metadata": {},
   "outputs": [
    {
     "name": "stdout",
     "output_type": "stream",
     "text": [
      "- - - - - - - - - * \n",
      "- - - - - - - * * \n",
      "- - - - - - - * * \n",
      "- - - - * * * \n",
      "- - - - * * * \n",
      "- - - - * * * \n",
      "* * * * \n",
      "* * * * \n",
      "* * * * \n",
      "* * * * \n"
     ]
    }
   ],
   "source": [
    "r=4\n",
    "for j in range(1,q):\n",
    "    for i in range(1,j+1):\n",
    "        for s in range(sp(r)-sp(j)):\n",
    "            printr('-')\n",
    "        for x in range(j):\n",
    "            printr('*')\n",
    "        print()"
   ]
  },
  {
   "cell_type": "markdown",
   "metadata": {},
   "source": [
    "### SOAL 3"
   ]
  },
  {
   "cell_type": "code",
   "execution_count": 41,
   "metadata": {},
   "outputs": [
    {
     "name": "stdout",
     "output_type": "stream",
     "text": [
      "1 * \n",
      "1 -   * \n",
      "2 - * * * \n",
      "1 - - - -     * \n",
      "2 - - - -   * * * \n",
      "3 - - - - * * * * * \n",
      "1 - - - - - - - - -       * \n",
      "2 - - - - - - - - -     * * * \n",
      "3 - - - - - - - - -   * * * * * \n",
      "4 - - - - - - - - - * * * * * * * \n"
     ]
    }
   ],
   "source": [
    "def spc(a):\n",
    "    return (a-1)**2\n",
    "def od(a):\n",
    "    return a*2-1\n",
    "\n",
    "for j in range(q):    # atau dr 1 tak beda\n",
    "    for i in range(1,j+1):  # harus dr 1\n",
    "        printr(i)\n",
    "        for s in range(spc(j)): # dr 0 # (j-1)**2\n",
    "            printr('-')\n",
    "        for sg in range(j-i):\n",
    "            printr(' ')\n",
    "        for x in range(od(i)): # i*2-1\n",
    "            printr('*')\n",
    "        print()"
   ]
  },
  {
   "cell_type": "markdown",
   "metadata": {},
   "source": [
    "### SOAL 4.a"
   ]
  },
  {
   "cell_type": "code",
   "execution_count": 42,
   "metadata": {},
   "outputs": [
    {
     "name": "stdout",
     "output_type": "stream",
     "text": [
      "- - - - - - - - - - - - - - - * \n",
      "- - - - - - - - - - - -   * \n",
      "- - - - - - - - - - - - * * * \n",
      "- - - - - - -     * \n",
      "- - - - - - -   * * * \n",
      "- - - - - - - * * * * * \n",
      "      * \n",
      "    * * * \n",
      "  * * * * * \n",
      "* * * * * * * \n"
     ]
    }
   ],
   "source": [
    "\n",
    "for j in range(1,q):\n",
    "    for i in range(1,j+1):\n",
    "        for s in range(r**2-j**2):  # ato spc(q)-j**2\n",
    "            printr(\"-\")\n",
    "        for sg in range(j-i):\n",
    "            printr(\" \")\n",
    "        for x in range(od(i)):\n",
    "            printr(\"*\")\n",
    "        print()"
   ]
  },
  {
   "cell_type": "markdown",
   "metadata": {},
   "source": [
    "### SOAL 4.b"
   ]
  },
  {
   "cell_type": "code",
   "execution_count": 43,
   "metadata": {},
   "outputs": [
    {
     "name": "stdout",
     "output_type": "stream",
     "text": [
      "* \n",
      "- * * * \n",
      "-   * \n",
      "- - - - * * * * * \n",
      "- - - -   * * * \n",
      "- - - -     * \n",
      "- - - - - - - - - * * * * * * * \n",
      "- - - - - - - - -   * * * * * \n",
      "- - - - - - - - -     * * * \n",
      "- - - - - - - - -       * \n"
     ]
    }
   ],
   "source": [
    "for j in range(q):\n",
    "    for i in range(1,j+1):\n",
    "        for s in range(spc(j)):\n",
    "            printr('-')\n",
    "        for sg in range(1,i):\n",
    "            printr(\" \")\n",
    "        for x in range(od(j+1-i)):\n",
    "            printr('*')\n",
    "        print()"
   ]
  },
  {
   "cell_type": "code",
   "execution_count": 44,
   "metadata": {},
   "outputs": [
    {
     "name": "stdout",
     "output_type": "stream",
     "text": [
      "1 * \n",
      "2 - * * * \n",
      "1 -   * \n",
      "3 - - - - * * * * * \n",
      "2 - - - -   * * * \n",
      "1 - - - -     * \n",
      "4 - - - - - - - - - * * * * * * * \n",
      "3 - - - - - - - - -   * * * * * \n",
      "2 - - - - - - - - -     * * * \n",
      "1 - - - - - - - - -       * \n"
     ]
    }
   ],
   "source": [
    "\n",
    "for j in range(q):    # atau dr 1 tak beda\n",
    "    for i in reversed(range(1,j+1)):  # harus dr 1\n",
    "        printr(i)\n",
    "        for s in range(spc(j)): # dr 0 # (j-1)**2\n",
    "            printr('-')\n",
    "        for sg in range(j-i):\n",
    "            printr(' ')\n",
    "        for x in range(od(i)): # i*2-1\n",
    "            printr('*')\n",
    "        print()"
   ]
  },
  {
   "cell_type": "markdown",
   "metadata": {},
   "source": [
    "### SOAL 4.c"
   ]
  },
  {
   "cell_type": "code",
   "execution_count": 45,
   "metadata": {},
   "outputs": [
    {
     "name": "stdout",
     "output_type": "stream",
     "text": [
      "- - - - - - - - - - - - - - - * \n",
      "- - - - - - - - - - - - * * * \n",
      "- - - - - - - - - - - -   * \n",
      "- - - - - - - * * * * * \n",
      "- - - - - - -   * * * \n",
      "- - - - - - -     * \n",
      "* * * * * * * \n",
      "  * * * * * \n",
      "    * * * \n",
      "      * \n"
     ]
    }
   ],
   "source": [
    "r=4\n",
    "for j in range(1,q):\n",
    "    for i in reversed(range(1,j+1)):\n",
    "        for s in range(r**2-j**2):  # ato spc(q)-j**2\n",
    "            printr('-')\n",
    "        for sg in range(j-i):\n",
    "            printr(\" \")\n",
    "        for x in range(od(i)):\n",
    "            printr(\"*\")\n",
    "        print()"
   ]
  },
  {
   "cell_type": "markdown",
   "metadata": {},
   "source": [
    "### SOAL 5"
   ]
  },
  {
   "cell_type": "code",
   "execution_count": 46,
   "metadata": {},
   "outputs": [
    {
     "name": "stdout",
     "output_type": "stream",
     "text": [
      "1 1 \n",
      "2 - 1 2 \n",
      "2 - 3 4 \n",
      "3 - - - 1 2 3 \n",
      "3 - - - 4 5 6 \n",
      "3 - - - 7 8 9 \n",
      "4 - - - - - - 1 2 3 4 \n",
      "4 - - - - - - 5 6 7 8 \n",
      "4 - - - - - - 9 10 11 12 \n",
      "4 - - - - - - 13 14 15 16 \n"
     ]
    }
   ],
   "source": [
    "for j in range(1,q):\n",
    "    n=0        # harus disini\n",
    "    for i in range(1,j+1):\n",
    "        printr(j)\n",
    "        for s in range(sp(j-1)):\n",
    "            printr('-')\n",
    "        for x in range(j):\n",
    "            n+=1        # ato n=x+1+(i-1)*j   # n+=1 harus disini\n",
    "            printr(n)\n",
    "        print()"
   ]
  },
  {
   "cell_type": "markdown",
   "metadata": {},
   "source": [
    "### SOAL 6"
   ]
  },
  {
   "cell_type": "code",
   "execution_count": 47,
   "metadata": {},
   "outputs": [
    {
     "name": "stdout",
     "output_type": "stream",
     "text": [
      "1 - - - - - - - - - 1 \n",
      "2 - - - - - - - 1 2 \n",
      "2 - - - - - - - 3 4 \n",
      "3 - - - - 1 2 3 \n",
      "3 - - - - 4 5 6 \n",
      "3 - - - - 7 8 9 \n",
      "4 1 2 3 4 \n",
      "4 5 6 7 8 \n",
      "4 9 10 11 12 \n",
      "4 13 14 15 16 \n"
     ]
    }
   ],
   "source": [
    "r=4\n",
    "for j in range(1,q):\n",
    "    n=0          # harus disini\n",
    "    for i in range(1,j+1):\n",
    "        printr(j)\n",
    "        for s in range(sp(r)-sp(j)):\n",
    "            printr('-')\n",
    "        for x in range(j):\n",
    "            n+=1               # n=x+1+(i-1)*j   # n+=1 harus disini\n",
    "            printr(n)\n",
    "        print()"
   ]
  },
  {
   "cell_type": "markdown",
   "metadata": {},
   "source": [
    "### SOAL 7"
   ]
  },
  {
   "cell_type": "code",
   "execution_count": 48,
   "metadata": {},
   "outputs": [
    {
     "name": "stdout",
     "output_type": "stream",
     "text": [
      "1 - - - * \n",
      "1 - - - * \n",
      "2 - - * * * \n",
      "1 - - - * \n",
      "2 - - * * * \n",
      "3 - * * * * * \n",
      "1 - - - * \n",
      "2 - - * * * \n",
      "3 - * * * * * \n",
      "4 * * * * * * * \n"
     ]
    }
   ],
   "source": [
    "r=4\n",
    "for j in range(r+1):    # atau dr 1 tak beda\n",
    "    for i in range(1,j+1):  # harus dr 1\n",
    "        printr(i)\n",
    "        for s in range(r-i): # dr 0 \n",
    "            printr('-')\n",
    "        for x in range(od(i)): # i*2-1\n",
    "            printr('*')\n",
    "        print()"
   ]
  },
  {
   "cell_type": "markdown",
   "metadata": {},
   "source": [
    "### SOAL 8"
   ]
  },
  {
   "cell_type": "code",
   "execution_count": 49,
   "metadata": {},
   "outputs": [
    {
     "name": "stdout",
     "output_type": "stream",
     "text": [
      "1 - - - 1 \n",
      "1 - - - 1 \n",
      "2 - - 2 3 4 \n",
      "1 - - - 1 \n",
      "2 - - 3 5 7 \n",
      "3 - 9 11 13 15 17 \n",
      "1 - - - 1 \n",
      "2 - - 1 2 3 \n",
      "3 - 5 8 13 21 34 \n",
      "4 55 89 144 233 377 610 987 \n"
     ]
    }
   ],
   "source": [
    "r=4\n",
    "for j in range(r+1):    # atau dr 1 tak beda\n",
    "    c=0\n",
    "    for i in range(1,j+1):  # harus dr 1\n",
    "        printr(i)\n",
    "        for s in range(r-i): # dr 0 \n",
    "            printr('-')\n",
    "        for x in range(od(i)):\n",
    "            c += 1\n",
    "            if j%2<1 and j>2:\n",
    "                printr(fib(c))\n",
    "            elif j>2:\n",
    "                printr(od(c))\n",
    "            else:\n",
    "                printr(c)\n",
    "        print()\n"
   ]
  },
  {
   "cell_type": "markdown",
   "metadata": {},
   "source": [
    "### SOAL 9"
   ]
  },
  {
   "cell_type": "code",
   "execution_count": 50,
   "metadata": {},
   "outputs": [
    {
     "name": "stdout",
     "output_type": "stream",
     "text": [
      "1 - - - 1 \n",
      "2 - - - 1 \n",
      "2 - - 2 3 4 \n",
      "3 - - - 1 \n",
      "3 - - 3 5 7 \n",
      "3 - 9 11 13 15 17 \n",
      "4 - - - 1 \n",
      "4 - - 1 2 3 \n",
      "4 - 5 8 13 21 34 \n",
      "4 55 89 144 233 377 610 987 \n"
     ]
    }
   ],
   "source": [
    "r=4\n",
    "for j in range(r+1):    # atau dr 1 tak beda\n",
    "    c=0\n",
    "    for i in range(1,j+1):  # harus dr 1\n",
    "        printr(j)\n",
    "        for s in range(r-i): # dr 0 \n",
    "            printr('-')\n",
    "        for x in range(od(i)):\n",
    "            c += 1\n",
    "            if j%4<1:\n",
    "                printr(fib(c))\n",
    "            elif j%4==3:\n",
    "                printr(od(c))\n",
    "            else:\n",
    "                printr(c)\n",
    "        print()"
   ]
  },
  {
   "cell_type": "code",
   "execution_count": 51,
   "metadata": {},
   "outputs": [
    {
     "name": "stdout",
     "output_type": "stream",
     "text": [
      "1 1 \n",
      "2 - 1 2 \n",
      "2 - 4 3 \n",
      "3 - - - 1 2 3 \n",
      "3 - - - 6 5 4 \n",
      "3 - - - 7 8 9 \n",
      "4 - - - - - - 1 2 3 4 \n",
      "4 - - - - - - 8 7 6 5 \n",
      "4 - - - - - - 9 10 11 12 \n",
      "4 - - - - - - 16 15 14 13 \n"
     ]
    }
   ],
   "source": [
    "r=4\n",
    "for j in range(1,r+1):\n",
    "    for i in range(1,j+1):\n",
    "        printr(j)\n",
    "        for s in range(sp(j-1)):\n",
    "            printr('-')\n",
    "        for x in range(j)if i%2!=0  else reversed(range(j)):\n",
    "            n=x+1+(i-1)*j\n",
    "            printr(n)\n",
    "        print()"
   ]
  },
  {
   "cell_type": "code",
   "execution_count": null,
   "metadata": {},
   "outputs": [],
   "source": []
  }
 ],
 "metadata": {
  "kernelspec": {
   "display_name": "Python 3",
   "language": "python",
   "name": "python3"
  },
  "language_info": {
   "codemirror_mode": {
    "name": "ipython",
    "version": 3
   },
   "file_extension": ".py",
   "mimetype": "text/x-python",
   "name": "python",
   "nbconvert_exporter": "python",
   "pygments_lexer": "ipython3",
   "version": "3.6.4"
  }
 },
 "nbformat": 4,
 "nbformat_minor": 2
}
